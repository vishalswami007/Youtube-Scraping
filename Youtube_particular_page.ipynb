{
 "cells": [
  {
   "cell_type": "code",
   "execution_count": 16,
   "id": "73d4fb4f",
   "metadata": {},
   "outputs": [],
   "source": [
    "from tqdm import tqdm\n",
    "import numpy as np\n",
    "import pandas as pd\n",
    "\n",
    "from bs4 import BeautifulSoup\n",
    "import requests\n",
    "from selenium import webdriver\n",
    "import chromedriver_binary"
   ]
  },
  {
   "cell_type": "code",
   "execution_count": 17,
   "id": "672b6b8c",
   "metadata": {},
   "outputs": [
    {
     "data": {
      "text/html": [
       "<div>\n",
       "<style scoped>\n",
       "    .dataframe tbody tr th:only-of-type {\n",
       "        vertical-align: middle;\n",
       "    }\n",
       "\n",
       "    .dataframe tbody tr th {\n",
       "        vertical-align: top;\n",
       "    }\n",
       "\n",
       "    .dataframe thead th {\n",
       "        text-align: right;\n",
       "    }\n",
       "</style>\n",
       "<table border=\"1\" class=\"dataframe\">\n",
       "  <thead>\n",
       "    <tr style=\"text-align: right;\">\n",
       "      <th></th>\n",
       "      <th>Title</th>\n",
       "      <th>Views</th>\n",
       "      <th>Upload_data</th>\n",
       "      <th>Video_link</th>\n",
       "      <th>Thumbnail_link</th>\n",
       "    </tr>\n",
       "  </thead>\n",
       "  <tbody>\n",
       "    <tr>\n",
       "      <th>0</th>\n",
       "      <td>Age is Just a Number: The Story of a 14-Year-O...</td>\n",
       "      <td>8K views</td>\n",
       "      <td>2 days ago</td>\n",
       "      <td>/watch?v=TASew4CmC9w</td>\n",
       "      <td>https://i.ytimg.com/vi/TASew4CmC9w/hqdefault.jpg</td>\n",
       "    </tr>\n",
       "    <tr>\n",
       "      <th>1</th>\n",
       "      <td>How to Use GPT 4 | How it's better from GPT 3 ...</td>\n",
       "      <td>3.2K views</td>\n",
       "      <td>3 days ago</td>\n",
       "      <td>/watch?v=Mnx3TAgbX7o</td>\n",
       "      <td>https://i.ytimg.com/vi/Mnx3TAgbX7o/hqdefault.jpg</td>\n",
       "    </tr>\n",
       "    <tr>\n",
       "      <th>2</th>\n",
       "      <td>Master DSA Today and be the Masters of Tomorrow</td>\n",
       "      <td>19K views</td>\n",
       "      <td>8 days ago</td>\n",
       "      <td>/watch?v=PsOXP5hg52w</td>\n",
       "      <td>https://i.ytimg.com/vi/PsOXP5hg52w/hqdefault.jpg</td>\n",
       "    </tr>\n",
       "    <tr>\n",
       "      <th>3</th>\n",
       "      <td>How to avoid getting Laid Off | ft. Dr. Sneha ...</td>\n",
       "      <td>818 views</td>\n",
       "      <td>9 days ago</td>\n",
       "      <td>/watch?v=s4frRcj17AM</td>\n",
       "      <td>https://i.ytimg.com/vi/s4frRcj17AM/hqdefault.jpg</td>\n",
       "    </tr>\n",
       "    <tr>\n",
       "      <th>4</th>\n",
       "      <td>Psychology of Deciding Your Career ft. Dhairya...</td>\n",
       "      <td>687 views</td>\n",
       "      <td>10 days ago</td>\n",
       "      <td>/watch?v=0oPyv39ynTo</td>\n",
       "      <td>https://i.ytimg.com/vi/0oPyv39ynTo/hqdefault.jpg</td>\n",
       "    </tr>\n",
       "  </tbody>\n",
       "</table>\n",
       "</div>"
      ],
      "text/plain": [
       "                                               Title       Views  Upload_data  \\\n",
       "0  Age is Just a Number: The Story of a 14-Year-O...    8K views   2 days ago   \n",
       "1  How to Use GPT 4 | How it's better from GPT 3 ...  3.2K views   3 days ago   \n",
       "2    Master DSA Today and be the Masters of Tomorrow   19K views   8 days ago   \n",
       "3  How to avoid getting Laid Off | ft. Dr. Sneha ...   818 views   9 days ago   \n",
       "4  Psychology of Deciding Your Career ft. Dhairya...   687 views  10 days ago   \n",
       "\n",
       "             Video_link                                    Thumbnail_link  \n",
       "0  /watch?v=TASew4CmC9w  https://i.ytimg.com/vi/TASew4CmC9w/hqdefault.jpg  \n",
       "1  /watch?v=Mnx3TAgbX7o  https://i.ytimg.com/vi/Mnx3TAgbX7o/hqdefault.jpg  \n",
       "2  /watch?v=PsOXP5hg52w  https://i.ytimg.com/vi/PsOXP5hg52w/hqdefault.jpg  \n",
       "3  /watch?v=s4frRcj17AM  https://i.ytimg.com/vi/s4frRcj17AM/hqdefault.jpg  \n",
       "4  /watch?v=0oPyv39ynTo  https://i.ytimg.com/vi/0oPyv39ynTo/hqdefault.jpg  "
      ]
     },
     "execution_count": 17,
     "metadata": {},
     "output_type": "execute_result"
    }
   ],
   "source": [
    "import time\n",
    "df = pd.read_csv(\"youtube_data.csv\")\n",
    "df.head()"
   ]
  },
  {
   "cell_type": "code",
   "execution_count": 25,
   "id": "0385be94",
   "metadata": {
    "scrolled": true
   },
   "outputs": [
    {
     "name": "stderr",
     "output_type": "stream",
     "text": [
      "C:\\Users\\notvi\\AppData\\Local\\Temp\\ipykernel_28232\\239359152.py:2: DeprecationWarning: executable_path has been deprecated, please pass in a Service object\n",
      "  browser = webdriver.Chrome(chromedriver_binary.chromedriver_filename)\n",
      "  9%|▉         | 146/1642 [17:30<2:59:19,  7.19s/it]\n"
     ]
    },
    {
     "ename": "NoSuchWindowException",
     "evalue": "Message: no such window: target window already closed\nfrom unknown error: web view not found\n  (Session info: chrome=111.0.5563.110)\nStacktrace:\nBacktrace:\n\t(No symbol) [0x0066DCE3]\n\t(No symbol) [0x006039D1]\n\t(No symbol) [0x00514DA8]\n\t(No symbol) [0x004FD0D3]\n\t(No symbol) [0x0055EA8B]\n\t(No symbol) [0x0056D093]\n\t(No symbol) [0x0055ACC6]\n\t(No symbol) [0x00536F68]\n\t(No symbol) [0x005380CD]\n\tGetHandleVerifier [0x008E3832+2506274]\n\tGetHandleVerifier [0x00919794+2727300]\n\tGetHandleVerifier [0x0091E36C+2746716]\n\tGetHandleVerifier [0x00716690+617600]\n\t(No symbol) [0x0060C712]\n\t(No symbol) [0x00611FF8]\n\t(No symbol) [0x006120DB]\n\t(No symbol) [0x0061C63B]\n\tBaseThreadInitThunk [0x75A57D69+25]\n\tRtlInitializeExceptionChain [0x77B4BB9B+107]\n\tRtlClearBits [0x77B4BB1F+191]\n",
     "output_type": "error",
     "traceback": [
      "\u001b[1;31m---------------------------------------------------------------------------\u001b[0m",
      "\u001b[1;31mNoSuchWindowException\u001b[0m                     Traceback (most recent call last)",
      "\u001b[1;32m~\\AppData\\Local\\Temp\\ipykernel_28232\\239359152.py\u001b[0m in \u001b[0;36m<module>\u001b[1;34m\u001b[0m\n\u001b[0;32m      8\u001b[0m \u001b[1;33m\u001b[0m\u001b[0m\n\u001b[0;32m      9\u001b[0m     \u001b[0mtime\u001b[0m\u001b[1;33m.\u001b[0m\u001b[0msleep\u001b[0m\u001b[1;33m(\u001b[0m\u001b[1;36m5\u001b[0m\u001b[1;33m)\u001b[0m\u001b[1;33m\u001b[0m\u001b[1;33m\u001b[0m\u001b[0m\n\u001b[1;32m---> 10\u001b[1;33m     \u001b[0msoup\u001b[0m \u001b[1;33m=\u001b[0m \u001b[0mBeautifulSoup\u001b[0m\u001b[1;33m(\u001b[0m\u001b[0mbrowser\u001b[0m\u001b[1;33m.\u001b[0m\u001b[0mpage_source\u001b[0m\u001b[1;33m,\u001b[0m \u001b[1;34m'html.parser'\u001b[0m\u001b[1;33m)\u001b[0m\u001b[1;33m\u001b[0m\u001b[1;33m\u001b[0m\u001b[0m\n\u001b[0m\u001b[0;32m     11\u001b[0m \u001b[1;33m\u001b[0m\u001b[0m\n\u001b[0;32m     12\u001b[0m     \u001b[1;32mtry\u001b[0m\u001b[1;33m:\u001b[0m\u001b[1;33m\u001b[0m\u001b[1;33m\u001b[0m\u001b[0m\n",
      "\u001b[1;32m~\\anaconda3\\lib\\site-packages\\selenium\\webdriver\\remote\\webdriver.py\u001b[0m in \u001b[0;36mpage_source\u001b[1;34m(self)\u001b[0m\n\u001b[0;32m    539\u001b[0m                 \u001b[0mdriver\u001b[0m\u001b[1;33m.\u001b[0m\u001b[0mpage_source\u001b[0m\u001b[1;33m\u001b[0m\u001b[1;33m\u001b[0m\u001b[0m\n\u001b[0;32m    540\u001b[0m         \"\"\"\n\u001b[1;32m--> 541\u001b[1;33m         \u001b[1;32mreturn\u001b[0m \u001b[0mself\u001b[0m\u001b[1;33m.\u001b[0m\u001b[0mexecute\u001b[0m\u001b[1;33m(\u001b[0m\u001b[0mCommand\u001b[0m\u001b[1;33m.\u001b[0m\u001b[0mGET_PAGE_SOURCE\u001b[0m\u001b[1;33m)\u001b[0m\u001b[1;33m[\u001b[0m\u001b[1;34m\"value\"\u001b[0m\u001b[1;33m]\u001b[0m\u001b[1;33m\u001b[0m\u001b[1;33m\u001b[0m\u001b[0m\n\u001b[0m\u001b[0;32m    542\u001b[0m \u001b[1;33m\u001b[0m\u001b[0m\n\u001b[0;32m    543\u001b[0m     \u001b[1;32mdef\u001b[0m \u001b[0mclose\u001b[0m\u001b[1;33m(\u001b[0m\u001b[0mself\u001b[0m\u001b[1;33m)\u001b[0m \u001b[1;33m->\u001b[0m \u001b[1;32mNone\u001b[0m\u001b[1;33m:\u001b[0m\u001b[1;33m\u001b[0m\u001b[1;33m\u001b[0m\u001b[0m\n",
      "\u001b[1;32m~\\anaconda3\\lib\\site-packages\\selenium\\webdriver\\remote\\webdriver.py\u001b[0m in \u001b[0;36mexecute\u001b[1;34m(self, driver_command, params)\u001b[0m\n\u001b[0;32m    438\u001b[0m         \u001b[0mresponse\u001b[0m \u001b[1;33m=\u001b[0m \u001b[0mself\u001b[0m\u001b[1;33m.\u001b[0m\u001b[0mcommand_executor\u001b[0m\u001b[1;33m.\u001b[0m\u001b[0mexecute\u001b[0m\u001b[1;33m(\u001b[0m\u001b[0mdriver_command\u001b[0m\u001b[1;33m,\u001b[0m \u001b[0mparams\u001b[0m\u001b[1;33m)\u001b[0m\u001b[1;33m\u001b[0m\u001b[1;33m\u001b[0m\u001b[0m\n\u001b[0;32m    439\u001b[0m         \u001b[1;32mif\u001b[0m \u001b[0mresponse\u001b[0m\u001b[1;33m:\u001b[0m\u001b[1;33m\u001b[0m\u001b[1;33m\u001b[0m\u001b[0m\n\u001b[1;32m--> 440\u001b[1;33m             \u001b[0mself\u001b[0m\u001b[1;33m.\u001b[0m\u001b[0merror_handler\u001b[0m\u001b[1;33m.\u001b[0m\u001b[0mcheck_response\u001b[0m\u001b[1;33m(\u001b[0m\u001b[0mresponse\u001b[0m\u001b[1;33m)\u001b[0m\u001b[1;33m\u001b[0m\u001b[1;33m\u001b[0m\u001b[0m\n\u001b[0m\u001b[0;32m    441\u001b[0m             \u001b[0mresponse\u001b[0m\u001b[1;33m[\u001b[0m\u001b[1;34m\"value\"\u001b[0m\u001b[1;33m]\u001b[0m \u001b[1;33m=\u001b[0m \u001b[0mself\u001b[0m\u001b[1;33m.\u001b[0m\u001b[0m_unwrap_value\u001b[0m\u001b[1;33m(\u001b[0m\u001b[0mresponse\u001b[0m\u001b[1;33m.\u001b[0m\u001b[0mget\u001b[0m\u001b[1;33m(\u001b[0m\u001b[1;34m\"value\"\u001b[0m\u001b[1;33m,\u001b[0m \u001b[1;32mNone\u001b[0m\u001b[1;33m)\u001b[0m\u001b[1;33m)\u001b[0m\u001b[1;33m\u001b[0m\u001b[1;33m\u001b[0m\u001b[0m\n\u001b[0;32m    442\u001b[0m             \u001b[1;32mreturn\u001b[0m \u001b[0mresponse\u001b[0m\u001b[1;33m\u001b[0m\u001b[1;33m\u001b[0m\u001b[0m\n",
      "\u001b[1;32m~\\anaconda3\\lib\\site-packages\\selenium\\webdriver\\remote\\errorhandler.py\u001b[0m in \u001b[0;36mcheck_response\u001b[1;34m(self, response)\u001b[0m\n\u001b[0;32m    243\u001b[0m                 \u001b[0malert_text\u001b[0m \u001b[1;33m=\u001b[0m \u001b[0mvalue\u001b[0m\u001b[1;33m[\u001b[0m\u001b[1;34m\"alert\"\u001b[0m\u001b[1;33m]\u001b[0m\u001b[1;33m.\u001b[0m\u001b[0mget\u001b[0m\u001b[1;33m(\u001b[0m\u001b[1;34m\"text\"\u001b[0m\u001b[1;33m)\u001b[0m\u001b[1;33m\u001b[0m\u001b[1;33m\u001b[0m\u001b[0m\n\u001b[0;32m    244\u001b[0m             \u001b[1;32mraise\u001b[0m \u001b[0mexception_class\u001b[0m\u001b[1;33m(\u001b[0m\u001b[0mmessage\u001b[0m\u001b[1;33m,\u001b[0m \u001b[0mscreen\u001b[0m\u001b[1;33m,\u001b[0m \u001b[0mstacktrace\u001b[0m\u001b[1;33m,\u001b[0m \u001b[0malert_text\u001b[0m\u001b[1;33m)\u001b[0m  \u001b[1;31m# type: ignore[call-arg]  # mypy is not smart enough here\u001b[0m\u001b[1;33m\u001b[0m\u001b[1;33m\u001b[0m\u001b[0m\n\u001b[1;32m--> 245\u001b[1;33m         \u001b[1;32mraise\u001b[0m \u001b[0mexception_class\u001b[0m\u001b[1;33m(\u001b[0m\u001b[0mmessage\u001b[0m\u001b[1;33m,\u001b[0m \u001b[0mscreen\u001b[0m\u001b[1;33m,\u001b[0m \u001b[0mstacktrace\u001b[0m\u001b[1;33m)\u001b[0m\u001b[1;33m\u001b[0m\u001b[1;33m\u001b[0m\u001b[0m\n\u001b[0m",
      "\u001b[1;31mNoSuchWindowException\u001b[0m: Message: no such window: target window already closed\nfrom unknown error: web view not found\n  (Session info: chrome=111.0.5563.110)\nStacktrace:\nBacktrace:\n\t(No symbol) [0x0066DCE3]\n\t(No symbol) [0x006039D1]\n\t(No symbol) [0x00514DA8]\n\t(No symbol) [0x004FD0D3]\n\t(No symbol) [0x0055EA8B]\n\t(No symbol) [0x0056D093]\n\t(No symbol) [0x0055ACC6]\n\t(No symbol) [0x00536F68]\n\t(No symbol) [0x005380CD]\n\tGetHandleVerifier [0x008E3832+2506274]\n\tGetHandleVerifier [0x00919794+2727300]\n\tGetHandleVerifier [0x0091E36C+2746716]\n\tGetHandleVerifier [0x00716690+617600]\n\t(No symbol) [0x0060C712]\n\t(No symbol) [0x00611FF8]\n\t(No symbol) [0x006120DB]\n\t(No symbol) [0x0061C63B]\n\tBaseThreadInitThunk [0x75A57D69+25]\n\tRtlInitializeExceptionChain [0x77B4BB9B+107]\n\tRtlClearBits [0x77B4BB1F+191]\n"
     ]
    }
   ],
   "source": [
    "data = []\n",
    "browser = webdriver.Chrome(chromedriver_binary.chromedriver_filename)\n",
    "\n",
    "for link in tqdm(df['Video_link']):\n",
    "    link = 'https://www.youtube.com' + link\n",
    "    \n",
    "    browser.get(link)\n",
    "    \n",
    "    time.sleep(5)\n",
    "    soup = BeautifulSoup(browser.page_source, 'html.parser')\n",
    "    \n",
    "    try:\n",
    "        title = soup.find_all('yt-formatted-string', class_ = 'style-scope ytd-video-primary-info-renderer')[0].text\n",
    "    except:\n",
    "        title = np.nan\n",
    "    \n",
    "    try:\n",
    "        view = soup.find('span' , class_ = 'view-count style-scope ytd-video-view-count-renderer').text\n",
    "    except:\n",
    "        view = np.nan\n",
    "        \n",
    "    try:\n",
    "        date_time = soup.find_all('yt-formatted-string', class_ = 'style-scope ytd-video-primary-info-renderer')[1].text\n",
    "    except:\n",
    "        date_time = np.nan\n",
    "    \n",
    "    try:\n",
    "        like = soup.find('yt-formatted-string', class_ = 'style-scope ytd-toggle-button-renderer style-text').text\n",
    "    except:\n",
    "        like = np.nan\n",
    "      \n",
    "    try:\n",
    "        description = soup.find('yt-formatted-string', class_ = 'content style-scope ytd-video-secondary-info-renderer').text\n",
    "    except:\n",
    "        description = np.nan\n",
    "        \n",
    "    data.append([title , date_time, like, view, link, description])\n",
    "    \n",
    "    \n",
    "    "
   ]
  }
 ],
 "metadata": {
  "kernelspec": {
   "display_name": "Python 3 (ipykernel)",
   "language": "python",
   "name": "python3"
  },
  "language_info": {
   "codemirror_mode": {
    "name": "ipython",
    "version": 3
   },
   "file_extension": ".py",
   "mimetype": "text/x-python",
   "name": "python",
   "nbconvert_exporter": "python",
   "pygments_lexer": "ipython3",
   "version": "3.9.13"
  }
 },
 "nbformat": 4,
 "nbformat_minor": 5
}
