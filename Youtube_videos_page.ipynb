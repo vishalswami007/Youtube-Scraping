{
 "cells": [
  {
   "cell_type": "code",
   "execution_count": 88,
   "id": "c1bd585a",
   "metadata": {},
   "outputs": [],
   "source": [
    "import chromedriver_binary\n",
    "from bs4 import BeautifulSoup\n",
    "from selenium import webdriver\n",
    "\n",
    "import pandas as pd\n",
    "import numpy as np\n",
    "from tqdm import tqdm"
   ]
  },
  {
   "cell_type": "code",
   "execution_count": 85,
   "id": "9b40393c",
   "metadata": {},
   "outputs": [
    {
     "name": "stderr",
     "output_type": "stream",
     "text": [
      "C:\\Users\\notvi\\AppData\\Local\\Temp\\ipykernel_9940\\780537565.py:1: DeprecationWarning: executable_path has been deprecated, please pass in a Service object\n",
      "  browser = webdriver.Chrome(chromedriver_binary.chromedriver_filename)\n"
     ]
    }
   ],
   "source": [
    "browser = webdriver.Chrome(chromedriver_binary.chromedriver_filename)\n",
    "\n",
    "browser.get('https://www.youtube.com/c/GeeksforGeeksVideos/videos')\n"
   ]
  },
  {
   "cell_type": "code",
   "execution_count": 86,
   "id": "64d18778",
   "metadata": {},
   "outputs": [],
   "source": [
    "soup = BeautifulSoup(browser.page_source, 'html.parser')"
   ]
  },
  {
   "cell_type": "code",
   "execution_count": 90,
   "id": "29c41c0e",
   "metadata": {},
   "outputs": [],
   "source": [
    "data = []\n",
    "\n",
    "for sp in soup.find_all('ytd-rich-item-renderer'):\n",
    "    \n",
    "    title = sp.find('a', class_ ='yt-simple-endpoint focus-on-expand style-scope ytd-rich-grid-media').text\n",
    "    video_link = sp.find('a', class_ ='yt-simple-endpoint focus-on-expand style-scope ytd-rich-grid-media').get('href')\n",
    "    \n",
    "    try:\n",
    "        views = sp.find_all('span', class_ = 'inline-metadata-item style-scope ytd-video-meta-block')[0].text\n",
    "    except:\n",
    "        views = np.nan\n",
    "    \n",
    "    try:\n",
    "        upload_date = sp.find_all('span', class_ = 'inline-metadata-item style-scope ytd-video-meta-block')[1].text\n",
    "    except:\n",
    "        upload_date = np.nan\n",
    "    try:\n",
    "        thumbnail_link = sp.find('img').get('src').split('?')[0]\n",
    "    except:\n",
    "        thumbnail_link = np.nan\n",
    "    \n",
    "    data.append([title, views, upload_date, video_link, thumbnail_link])"
   ]
  },
  {
   "cell_type": "code",
   "execution_count": 91,
   "id": "bd2f11b4",
   "metadata": {},
   "outputs": [
    {
     "data": {
      "text/plain": [
       "1642"
      ]
     },
     "execution_count": 91,
     "metadata": {},
     "output_type": "execute_result"
    }
   ],
   "source": [
    "len(data)"
   ]
  },
  {
   "cell_type": "code",
   "execution_count": 92,
   "id": "c183c747",
   "metadata": {},
   "outputs": [],
   "source": [
    "df = pd.DataFrame(data, columns= ['Title', 'Views', 'Upload_data', 'Video_link', 'Thumbnail_link'])"
   ]
  },
  {
   "cell_type": "code",
   "execution_count": 96,
   "id": "178935df",
   "metadata": {},
   "outputs": [],
   "source": [
    "df.to_csv(\"youtube_data.csv\", index=False)"
   ]
  }
 ],
 "metadata": {
  "kernelspec": {
   "display_name": "Python 3 (ipykernel)",
   "language": "python",
   "name": "python3"
  },
  "language_info": {
   "codemirror_mode": {
    "name": "ipython",
    "version": 3
   },
   "file_extension": ".py",
   "mimetype": "text/x-python",
   "name": "python",
   "nbconvert_exporter": "python",
   "pygments_lexer": "ipython3",
   "version": "3.9.13"
  }
 },
 "nbformat": 4,
 "nbformat_minor": 5
}
